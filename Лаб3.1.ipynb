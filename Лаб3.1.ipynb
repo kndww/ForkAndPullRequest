https://colab.research.google.com/drive/1AenBVpGeGdphHPclJzeZtX-7Cie0EEvv#scrollTo=DGn0S11TLfAK
